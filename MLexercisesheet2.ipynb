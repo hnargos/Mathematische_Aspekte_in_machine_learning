{
 "cells": [
  {
   "cell_type": "code",
   "execution_count": 1,
   "metadata": {
    "collapsed": true
   },
   "outputs": [],
   "source": [
    "import numpy as np, matplotlib.pyplot as plt"
   ]
  },
  {
   "cell_type": "code",
   "execution_count": 23,
   "metadata": {
    "collapsed": false
   },
   "outputs": [],
   "source": [
    "def generate(l,posterior):\n",
    "    '''\n",
    "    generate data X=(x1,x2) and Y according to posterior distribution\n",
    "    input:  \n",
    "            l - scalar, size of training data set\n",
    "            posterior - function according to which labels +1, -1 are drawn\n",
    "    output:\n",
    "            X - l data points, drawn from uniform distribution in [-1,1]x[-1,1]\n",
    "            Y - l labels \n",
    "    '''\n",
    "    X=2*np.random.rand(l,2)-1;#uniform in [-1,1]x[-1,1]\n",
    "    Y=np.zeros(l)\n",
    "    for i in range(l):\n",
    "        p=posterior(X[i,:])\n",
    "        Y[i]=np.random.choice([-1,1], 1, p=[1-p,p])\n",
    "    return X,Y"
   ]
  },
  {
   "cell_type": "code",
   "execution_count": 24,
   "metadata": {
    "collapsed": false
   },
   "outputs": [],
   "source": [
    "def empiricalrisk(l, decarray, Y):\n",
    "    '''\n",
    "    computes empirical risk\n",
    "    input:\n",
    "            l - scalar, size of training data set\n",
    "            decarray - array of labels chosen by decision function\n",
    "            Y - labels\n",
    "    output:\n",
    "            risk - empirical risk\n",
    "    \n",
    "    '''\n",
    "    risk=(2*l)**(-1)*sum(abs(decarray-Y))\n",
    "    return risk"
   ]
  },
  {
   "cell_type": "code",
   "execution_count": 25,
   "metadata": {
    "collapsed": false
   },
   "outputs": [],
   "source": [
    "def bruteforce(l,X,Y):\n",
    "    '''\n",
    "    brute force approach to find class optimal decision function \n",
    "    input: \n",
    "            l - scalar, size of training data set\n",
    "            X - l data points\n",
    "            Y - l labels\n",
    "    output: \n",
    "            minrisk - minimal empirical risk\n",
    "            optimalclassifier - array with entries: w, theta, case 1 or 2 (ie sign + or -)\n",
    "    '''\n",
    "    #pick d=2 points from X that determine hyperplane\n",
    "    minrisk=1\n",
    "    for i in range(l):\n",
    "        for j in range(i+1,l):\n",
    "                #2 points that determine classifier\n",
    "                x1=X[i,:]\n",
    "                x2=X[j,:]\n",
    "                \n",
    "                slope=(x2[1]-x1[1])/(x2[0]-x1[0])\n",
    "                theta=x1[1]-x1[0]*slope\n",
    "                w=np.array([slope,-1])\n",
    "                #classify points\n",
    "                classifier1=np.zeros(l)\n",
    "                for k in range(l):\n",
    "                    if np.dot(w,X[k,:])>-theta:\n",
    "                        classifier1[k] = +1\n",
    "                    else:\n",
    "                        classifier1[k] = -1\n",
    "                classifier2 = - classifier1\n",
    "                \n",
    "                #empirical risk\n",
    "                risk1=empiricalrisk(l,classifier1,Y)\n",
    "                risk2=empiricalrisk(l,classifier2,Y)\n",
    "                if risk1<minrisk:\n",
    "                    minrisk = risk1\n",
    "                    optimalclassifier=np.array([w[0],w[1],theta,1])\n",
    "                if risk2<minrisk:\n",
    "                    minrisk = risk2\n",
    "                    optimalclassifier=np.array([w[0],w[1],theta,2])\n",
    "    return minrisk,optimalclassifier\n",
    "                "
   ]
  },
  {
   "cell_type": "code",
   "execution_count": 26,
   "metadata": {
    "collapsed": true
   },
   "outputs": [],
   "source": [
    "def classifier(x,w,theta,case):\n",
    "    '''classifies x into +1 or -1 '''\n",
    "    if np.dot(w,x)>-theta:\n",
    "        label=1*(case==1)-1*(case==2)\n",
    "    else:\n",
    "        label=-1*(case==1)+1*(case==2)\n",
    "    return label"
   ]
  },
  {
   "cell_type": "code",
   "execution_count": 27,
   "metadata": {
    "collapsed": true
   },
   "outputs": [],
   "source": [
    "def pocket_perceptron_learning(data,labels,extended = True, max_iter=10**5):\n",
    "    '''\n",
    "    \n",
    "    Perceptron learning algorithm for binary {+/- 1} labeled data. Terminates automatically, if the data is separated\n",
    "    linearly, else runs for a maximum number of iterations and returns last stored iterate of (almost) separating\n",
    "    hyperplane or separating hyperplane classifying the biggest number of points correctly (pocket algorithm).\n",
    "    \n",
    "    Inputs:\n",
    "        data: 2d numpy array\n",
    "        labels: {+1,-1} list/array classifying each data row\n",
    "        max_iter: maximal number of iterations\n",
    "        \n",
    "    Outputs:\n",
    "        w: weight vector in extended feature space defining separating hyperplane\n",
    "        iterate_count: number of iterations needed until termination (an iteration is a modification of w)\n",
    "        log: list number of correctly classified data rows in each iteration step\n",
    "    '''\n",
    "    iterate_count = 0\n",
    "    active_label = 0\n",
    "    n_correct = 0\n",
    "    log=[0] #initial \"correctly classified\" log entry \n",
    "    n = data.shape[0];\n",
    "    if extended: \n",
    "        data = np.c_[ data, np.ones(data.shape[0]) ] # embed data into extended n+1 dimensional extended feature space\n",
    "    w = np.random.rand(data.shape[1])*10\n",
    "    \n",
    "    w_pocket = w; #pocket\n",
    "    n_pocket = 0; #the number of succesful pocket iterations\n",
    "        \n",
    "    while True:\n",
    "        #weight update iteration\n",
    "        \n",
    "        #break condition\n",
    "        if n_correct >= n or iterate_count >= max_iter:\n",
    "            log.append(n_pocket);\n",
    "            break;\n",
    "        \n",
    "        #choosing next data point\n",
    "        x = data[int(active_label)];\n",
    "        \n",
    "        #add/subtract weight modification routine\n",
    "        if np.dot(x,w) <=0 and labels[active_label]>0:\n",
    "            w = w + x\n",
    "            log.append(n_pocket)\n",
    "            iterate_count += 1\n",
    "            active_label = 0\n",
    "            n_correct = 0\n",
    "        elif np.dot(x,w) >=0 and labels[active_label]<0:\n",
    "            w = w - x\n",
    "            log.append(n_pocket)\n",
    "            iterate_count += 1\n",
    "            active_label = 0\n",
    "        else:\n",
    "            active_label += 1\n",
    "            n_correct += 1\n",
    "        \n",
    "        #check if pocket needs to be updated\n",
    "        if n_correct>n_pocket:\n",
    "            n_pocket = n_correct;\n",
    "            w_pocket = w;\n",
    "    #return\n",
    "    return w_pocket,iterate_count,log[1:]  "
   ]
  },
  {
   "cell_type": "code",
   "execution_count": 31,
   "metadata": {
    "collapsed": false
   },
   "outputs": [],
   "source": [
    "#function that determines label according X=(x1,x2)\n",
    "g = lambda x: ((x[0]+1)/2) #task 3(a)\n",
    "f = lambda x: 0.25*(x[0]+1)*(x[1]+1) #task 3(d)\n",
    "\n",
    "\n",
    "\n",
    "def compare(l,posterior):\n",
    "    '''to compare the brute force approach and pocket algorithm for l training data and a chosen posterior'''\n",
    "    \n",
    "    #generate training data X,Y\n",
    "    X,Y=generate(l,posterior) \n",
    "\n",
    "    #empirical risk minimization: brute force approach\n",
    "    minrisk,optclassifier=bruteforce(l,X,Y) \n",
    "    #optimal classifier function\n",
    "    opclassifierfun= lambda x: classifier(x,optclassifier[0:2],optclassifier[2],optclassifier[3])\n",
    "    #labels according to optimal classifier function\n",
    "    classifierbruteforce = np.array([opclassifierfun(X[i,:]) for i in range(l)])\n",
    "\n",
    "    #Pocket Algorithm\n",
    "    w,iter_count,log=pocket_perceptron_learning(X,Y,max_iter=10**5)\n",
    "    #labels according to Pocket Algorithm\n",
    "    classifierpocket = np.array([classifier(np.array([X[i,0],X[i,1]]),w[0:2],-w[2],1) for i in range(l)])\n",
    "    #empirical risk according to Pocket Algorithm\n",
    "    riskpocket = empiricalrisk(l,classifierpocket,Y)\n",
    "    \n",
    "    return X,Y, minrisk, classifierbruteforce, riskpocket, classifierpocket"
   ]
  },
  {
   "cell_type": "code",
   "execution_count": 30,
   "metadata": {
    "collapsed": false
   },
   "outputs": [
    {
     "name": "stdout",
     "output_type": "stream",
     "text": [
      "[[  1.00000000e+01   1.60000000e-01   3.30000000e-01   8.00000000e-02\n",
      "    4.00000000e-01]\n",
      " [  2.00000000e+01   1.50000000e-01   3.35000000e-01   1.20000000e-01\n",
      "    5.00000000e-01]\n",
      " [  3.00000000e+01   1.53333333e-01   3.23333333e-01   1.30000000e-01\n",
      "    5.90000000e-01]\n",
      " [  4.00000000e+01   1.80000000e-01   3.85000000e-01   1.57500000e-01\n",
      "    5.40000000e-01]\n",
      " [  5.00000000e+01   2.04000000e-01   3.28000000e-01   1.44000000e-01\n",
      "    5.74000000e-01]\n",
      " [  6.00000000e+01   1.83333333e-01   3.05000000e-01   1.95000000e-01\n",
      "    4.78333333e-01]\n",
      " [  7.00000000e+01   1.82857143e-01   3.05714286e-01   1.54285714e-01\n",
      "    5.62857143e-01]\n",
      " [  8.00000000e+01   2.07500000e-01   3.56250000e-01   1.75000000e-01\n",
      "    5.51250000e-01]\n",
      " [  9.00000000e+01   1.92222222e-01   3.23333333e-01   1.53333333e-01\n",
      "    5.46666667e-01]\n",
      " [  1.00000000e+02   2.04000000e-01   3.44000000e-01   1.61000000e-01\n",
      "    4.99000000e-01]]\n",
      "10\n"
     ]
    }
   ],
   "source": [
    "#RESULTS\n",
    "\n",
    "results=np.zeros((10,5))\n",
    "count=0\n",
    "for l in range(10,101,10):#(10,101,10): #size of training set\n",
    "    for k in range(10): #repeat and average\n",
    "        Xg,Yg, minriskg, classifierbruteforceg, riskpocketg, classifierpocketg = compare(l,g)\n",
    "        Xf,Yf, minriskf, classifierbruteforcef, riskpocketf, classifierpocketf = compare(l,f)\n",
    "        results[count,:]+=0.1*np.array([l,minriskg, riskpocketg, minriskf, riskpocketf])\n",
    "    count+=1\n",
    "print(results)    "
   ]
  },
  {
   "cell_type": "code",
   "execution_count": 39,
   "metadata": {
    "collapsed": false
   },
   "outputs": [
    {
     "data": {
      "image/png": "[encoded data removed]",
      "text/plain": [
       "<matplotlib.figure.Figure at 0x88436a0>"
      ]
     },
     "metadata": {},
     "output_type": "display_data"
    }
   ],
   "source": [
    "plt.plot(range(10,101,10),results[:,1],'r')\n",
    "plt.plot(range(10,101,10),results[:,2],'b')\n",
    "plt.title('Using g = (x1+1)/2')\n",
    "plt.xlabel('size of training data set l')\n",
    "plt.ylabel('empirical risk')\n",
    "plt.legend(['brute force','pocket algorithm'], bbox_to_anchor=(1, 1), loc=2)\n",
    "plt.show()"
   ]
  },
  {
   "cell_type": "code",
   "execution_count": 40,
   "metadata": {
    "collapsed": false
   },
   "outputs": [
    {
     "data": {
      "image/png": "[encoded data removed]",
      "text/plain": [
       "<matplotlib.figure.Figure at 0x7c2e470>"
      ]
     },
     "metadata": {},
     "output_type": "display_data"
    }
   ],
   "source": [
    "plt.plot(range(10,101,10),results[:,3],'r')\n",
    "plt.plot(range(10,101,10),results[:,4],'b')\n",
    "plt.title('Using f = (x1+1)*(x2+1)/4')\n",
    "plt.xlabel('size of training data set l')\n",
    "plt.ylabel('empirical risk')\n",
    "plt.legend(['brute force','pocket algorithm'], bbox_to_anchor=(1, 1), loc=2)\n",
    "plt.show()"
   ]
  },
  {
   "cell_type": "code",
   "execution_count": null,
   "metadata": {
    "collapsed": true
   },
   "outputs": [],
   "source": []
  }
 ],
 "metadata": {
  "kernelspec": {
   "display_name": "Python 2",
   "language": "python",
   "name": "python2"
  },
  "language_info": {
   "codemirror_mode": {
    "name": "ipython",
    "version": 2
   },
   "file_extension": ".py",
   "mimetype": "text/x-python",
   "name": "python",
   "nbconvert_exporter": "python",
   "pygments_lexer": "ipython2",
   "version": "2.7.13"
  }
 },
 "nbformat": 4,
 "nbformat_minor": 2
}
