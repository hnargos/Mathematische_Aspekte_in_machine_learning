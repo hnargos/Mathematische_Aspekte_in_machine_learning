{
 "cells": [
  {
   "cell_type": "markdown",
   "metadata": {},
   "source": [
    "# Mathematical Aspects of Machine Learning: Exercise Sheet 2\n",
    "by Henrik Narvaez, Marvin Rominger, Johannes von Lindheim und Luzie Helfmann"
   ]
  },
  {
   "cell_type": "markdown",
   "metadata": {},
   "source": [
    "#  Exercise 3 (c) <br> \n",
    "The task is to generate several training data sets of size $l$ and write an algorithm that finds the empirically optimal decision function by minimizing over $l\\times l-1$ linear classifiers (brute force approach). We also have to compare the results to the results of the pocket algorithm. "
   ]
  },
  {
   "cell_type": "code",
   "execution_count": 1,
   "metadata": {
    "collapsed": true
   },
   "outputs": [],
   "source": [
    "import numpy as np, matplotlib.pyplot as plt\n",
    "from pandas import DataFrame\n",
    "%matplotlib inline"
   ]
  },
  {
   "cell_type": "code",
   "execution_count": 2,
   "metadata": {
    "collapsed": false
   },
   "outputs": [],
   "source": [
    "def generate(l,posterior):\n",
    "    '''\n",
    "    generate data X=(x1,x2) and Y according to posterior distribution\n",
    "    input:  \n",
    "            l - scalar, size of training data set\n",
    "            posterior - function according to which labels +1, -1 are drawn\n",
    "    output:\n",
    "            X - l data points, drawn from uniform distribution in [-1,1]x[-1,1]\n",
    "            Y - l labels \n",
    "    '''\n",
    "    X=2*np.random.rand(l,2)-1;#uniform in [-1,1]x[-1,1]\n",
    "    Y=np.zeros(l)\n",
    "    for i in range(l):\n",
    "        p=posterior(X[i,:])\n",
    "        Y[i]=np.random.choice([-1,1], 1, p=[1-p,p])\n",
    "    return X,Y"
   ]
  },
  {
   "cell_type": "code",
   "execution_count": 3,
   "metadata": {
    "collapsed": false
   },
   "outputs": [],
   "source": [
    "def empiricalrisk(l, decarray, Y):\n",
    "    '''\n",
    "    computes empirical risk\n",
    "    input:\n",
    "            l - scalar, size of training data set\n",
    "            decarray - array of labels chosen by decision function\n",
    "            Y - labels\n",
    "    output:\n",
    "            risk - empirical risk\n",
    "    \n",
    "    '''\n",
    "    risk=(2*l)**(-1)*sum(abs(decarray-Y))\n",
    "    return risk"
   ]
  },
  {
   "cell_type": "code",
   "execution_count": 4,
   "metadata": {
    "collapsed": false
   },
   "outputs": [],
   "source": [
    "def bruteforce(l,X,Y):\n",
    "    '''\n",
    "    brute force approach to find class optimal decision function \n",
    "    input: \n",
    "            l - scalar, size of training data set\n",
    "            X - l data points\n",
    "            Y - l labels\n",
    "    output: \n",
    "            minrisk - minimal empirical risk\n",
    "            optimalclassifier - array with entries: w, theta, case 1 or 2 (ie sign + or -)\n",
    "    '''\n",
    "    #pick d=2 points from X that determine hyperplane\n",
    "    minrisk=1\n",
    "    for i in range(l):\n",
    "        for j in range(i+1,l):\n",
    "                #2 points that determine classifier\n",
    "                x1=X[i,:]\n",
    "                x2=X[j,:]\n",
    "                \n",
    "                #linear classifier\n",
    "                slope=(x2[1]-x1[1])/(x2[0]-x1[0])\n",
    "                theta=x1[1]-x1[0]*slope\n",
    "                w=np.array([slope,-1])\n",
    "                \n",
    "                #classify points\n",
    "                classifier1=np.zeros(l)\n",
    "                for k in range(l):\n",
    "                    if np.dot(w,X[k,:])>-theta:\n",
    "                        classifier1[k] = +1\n",
    "                    else:\n",
    "                        classifier1[k] = -1\n",
    "                classifier2 = - classifier1\n",
    "                \n",
    "                #empirical risk\n",
    "                risk1=empiricalrisk(l,classifier1,Y)\n",
    "                risk2=empiricalrisk(l,classifier2,Y)\n",
    "                if risk1< minrisk:\n",
    "                    minrisk = risk1\n",
    "                    optimalclassifier=np.array([w[0],w[1],theta,1])\n",
    "                if risk2< minrisk:\n",
    "                    minrisk = risk2\n",
    "                    optimalclassifier=np.array([w[0],w[1],theta,2])\n",
    "    return minrisk,optimalclassifier\n",
    "                "
   ]
  },
  {
   "cell_type": "code",
   "execution_count": 5,
   "metadata": {
    "collapsed": true
   },
   "outputs": [],
   "source": [
    "def classifier(x,w,theta,case):\n",
    "    '''classifies x into +1 or -1 '''\n",
    "    if np.dot(w,x)>-theta:\n",
    "        label=1*(case==1)-1*(case==2)\n",
    "    else:\n",
    "        label=-1*(case==1)+1*(case==2)\n",
    "    return label"
   ]
  },
  {
   "cell_type": "code",
   "execution_count": 6,
   "metadata": {
    "collapsed": true
   },
   "outputs": [],
   "source": [
    "def pocket_perceptron_learning(data,labels,extended = True, max_iter=10**5):\n",
    "    '''\n",
    "    \n",
    "    Perceptron learning algorithm for binary {+/- 1} labeled data. Terminates automatically, if the data is separated\n",
    "    linearly, else runs for a maximum number of iterations and returns last stored iterate of (almost) separating\n",
    "    hyperplane or separating hyperplane classifying the biggest number of points correctly (pocket algorithm).\n",
    "    \n",
    "    Inputs:\n",
    "        data: 2d numpy array\n",
    "        labels: {+1,-1} list/array classifying each data row\n",
    "        max_iter: maximal number of iterations\n",
    "        \n",
    "    Outputs:\n",
    "        w: weight vector in extended feature space defining separating hyperplane\n",
    "        iterate_count: number of iterations needed until termination (an iteration is a modification of w)\n",
    "        log: list number of correctly classified data rows in each iteration step\n",
    "    '''\n",
    "    iterate_count = 0\n",
    "    active_label = 0\n",
    "    n_correct = 0\n",
    "    log=[0] #initial \"correctly classified\" log entry \n",
    "    n = data.shape[0];\n",
    "    if extended: \n",
    "        data = np.c_[ data, np.ones(data.shape[0]) ] # embed data into extended n+1 dimensional extended feature space\n",
    "    w = np.random.rand(data.shape[1])*10\n",
    "    \n",
    "    w_pocket = w; #pocket\n",
    "    n_pocket = 0; #the number of succesful pocket iterations\n",
    "        \n",
    "    while True:\n",
    "        #weight update iteration\n",
    "        \n",
    "        #break condition\n",
    "        if n_correct >= n or iterate_count >= max_iter:\n",
    "            log.append(n_pocket);\n",
    "            break;\n",
    "        \n",
    "        #choosing next data point\n",
    "        x = data[int(active_label)];\n",
    "        \n",
    "        #add/subtract weight modification routine\n",
    "        if np.dot(x,w) <=0 and labels[active_label]>0:\n",
    "            w = w + x\n",
    "            log.append(n_pocket)\n",
    "            iterate_count += 1\n",
    "            active_label = 0\n",
    "            n_correct = 0\n",
    "        elif np.dot(x,w) >=0 and labels[active_label]<0:\n",
    "            w = w - x\n",
    "            log.append(n_pocket)\n",
    "            iterate_count += 1\n",
    "            active_label = 0\n",
    "        else:\n",
    "            active_label += 1\n",
    "            n_correct += 1\n",
    "        \n",
    "        #check if pocket needs to be updated\n",
    "        if n_correct>n_pocket:\n",
    "            n_pocket = n_correct;\n",
    "            w_pocket = w;\n",
    "    #return\n",
    "    return w_pocket,iterate_count,log[1:]  "
   ]
  },
  {
   "cell_type": "code",
   "execution_count": 9,
   "metadata": {
    "collapsed": false
   },
   "outputs": [],
   "source": [
    "#function that determines label according X=(x1,x2)\n",
    "g = lambda x: ((x[0]+1)/2) #task 3(a)\n",
    "f = lambda x: 0.25*(x[0]+1)*(x[1]+1) #task 3(d)\n",
    "\n",
    "\n",
    "\n",
    "def compare(l,posterior):\n",
    "    '''to compare the brute force approach and pocket algorithm for l training data and a chosen posterior'''\n",
    "    \n",
    "    #generate training data X,Y\n",
    "    X,Y=generate(l,posterior) \n",
    "\n",
    "    #empirical risk minimization: brute force approach\n",
    "    minrisk,optclassifier=bruteforce(l,X,Y) \n",
    "    #optimal classifier function\n",
    "    opclassifierfun= lambda x: classifier(x,optclassifier[0:2],optclassifier[2],optclassifier[3])\n",
    "    #labels according to optimal classifier function\n",
    "    classifierbruteforce = np.array([opclassifierfun(X[i,:]) for i in range(l)])\n",
    "\n",
    "    #Pocket Algorithm\n",
    "    w,iter_count,log=pocket_perceptron_learning(X,Y,max_iter=10**5)\n",
    "    #labels according to Pocket Algorithm\n",
    "    classifierpocket = np.array([classifier(np.array([X[i,0],X[i,1]]),w[0:2],-w[2],1) for i in range(l)])\n",
    "    #empirical risk according to Pocket Algorithm\n",
    "    riskpocket = empiricalrisk(l,classifierpocket,Y)\n",
    "    \n",
    "    return X,Y, minrisk, classifierbruteforce, riskpocket, classifierpocket"
   ]
  },
  {
   "cell_type": "markdown",
   "metadata": {},
   "source": [
    "Computing the empirical risk for different sizes of training data sets $l \\in \\{10,20,...,100\\}$ (and averaging) and for both the Brute Force Minimization and Pocket Algorithm. \n",
    "We compute the empirical risk for the case that the conditional probability of $Y=1$ is $g(x_1,x_2)=\\dfrac{x_1+1}{2}$ and for the case that it's $f(x_1,x_2)=\\dfrac{(x_1+1)(x_2+1)}{4}$."
   ]
  },
  {
   "cell_type": "code",
   "execution_count": 15,
   "metadata": {
    "collapsed": false
   },
   "outputs": [
    {
     "name": "stdout",
     "output_type": "stream",
     "text": [
      "Empirical Risk (averaged over 10 repetitions)\n"
     ]
    },
    {
     "data": {
      "text/html": [
       "<div>\n",
       "<table border=\"1\" class=\"dataframe\">\n",
       "  <thead>\n",
       "    <tr style=\"text-align: right;\">\n",
       "      <th></th>\n",
       "      <th>Brute Force, g</th>\n",
       "      <th>Pocket Algorithm, g</th>\n",
       "      <th>Brute force, f</th>\n",
       "      <th>Pocket Algorithm, f</th>\n",
       "    </tr>\n",
       "  </thead>\n",
       "  <tbody>\n",
       "    <tr>\n",
       "      <th>l = 10.0</th>\n",
       "      <td>0.150000</td>\n",
       "      <td>0.370000</td>\n",
       "      <td>0.060000</td>\n",
       "      <td>0.490000</td>\n",
       "    </tr>\n",
       "    <tr>\n",
       "      <th>l = 20.0</th>\n",
       "      <td>0.115000</td>\n",
       "      <td>0.255000</td>\n",
       "      <td>0.115000</td>\n",
       "      <td>0.475000</td>\n",
       "    </tr>\n",
       "    <tr>\n",
       "      <th>l = 30.0</th>\n",
       "      <td>0.190000</td>\n",
       "      <td>0.303333</td>\n",
       "      <td>0.116667</td>\n",
       "      <td>0.530000</td>\n",
       "    </tr>\n",
       "    <tr>\n",
       "      <th>l = 40.0</th>\n",
       "      <td>0.177500</td>\n",
       "      <td>0.322500</td>\n",
       "      <td>0.147500</td>\n",
       "      <td>0.622500</td>\n",
       "    </tr>\n",
       "    <tr>\n",
       "      <th>l = 50.0</th>\n",
       "      <td>0.186000</td>\n",
       "      <td>0.384000</td>\n",
       "      <td>0.114000</td>\n",
       "      <td>0.616000</td>\n",
       "    </tr>\n",
       "    <tr>\n",
       "      <th>l = 60.0</th>\n",
       "      <td>0.186667</td>\n",
       "      <td>0.343333</td>\n",
       "      <td>0.131667</td>\n",
       "      <td>0.590000</td>\n",
       "    </tr>\n",
       "    <tr>\n",
       "      <th>l = 70.0</th>\n",
       "      <td>0.175714</td>\n",
       "      <td>0.298571</td>\n",
       "      <td>0.167143</td>\n",
       "      <td>0.561429</td>\n",
       "    </tr>\n",
       "    <tr>\n",
       "      <th>l = 80.0</th>\n",
       "      <td>0.196250</td>\n",
       "      <td>0.348750</td>\n",
       "      <td>0.163750</td>\n",
       "      <td>0.450000</td>\n",
       "    </tr>\n",
       "    <tr>\n",
       "      <th>l = 90.0</th>\n",
       "      <td>0.206667</td>\n",
       "      <td>0.368889</td>\n",
       "      <td>0.157778</td>\n",
       "      <td>0.584444</td>\n",
       "    </tr>\n",
       "    <tr>\n",
       "      <th>l = 100.0</th>\n",
       "      <td>0.190000</td>\n",
       "      <td>0.322000</td>\n",
       "      <td>0.160000</td>\n",
       "      <td>0.601000</td>\n",
       "    </tr>\n",
       "  </tbody>\n",
       "</table>\n",
       "</div>"
      ],
      "text/plain": [
       "           Brute Force, g  Pocket Algorithm, g  Brute force, f  \\\n",
       "l = 10.0         0.150000             0.370000        0.060000   \n",
       "l = 20.0         0.115000             0.255000        0.115000   \n",
       "l = 30.0         0.190000             0.303333        0.116667   \n",
       "l = 40.0         0.177500             0.322500        0.147500   \n",
       "l = 50.0         0.186000             0.384000        0.114000   \n",
       "l = 60.0         0.186667             0.343333        0.131667   \n",
       "l = 70.0         0.175714             0.298571        0.167143   \n",
       "l = 80.0         0.196250             0.348750        0.163750   \n",
       "l = 90.0         0.206667             0.368889        0.157778   \n",
       "l = 100.0        0.190000             0.322000        0.160000   \n",
       "\n",
       "           Pocket Algorithm, f  \n",
       "l = 10.0              0.490000  \n",
       "l = 20.0              0.475000  \n",
       "l = 30.0              0.530000  \n",
       "l = 40.0              0.622500  \n",
       "l = 50.0              0.616000  \n",
       "l = 60.0              0.590000  \n",
       "l = 70.0              0.561429  \n",
       "l = 80.0              0.450000  \n",
       "l = 90.0              0.584444  \n",
       "l = 100.0             0.601000  "
      ]
     },
     "execution_count": 15,
     "metadata": {},
     "output_type": "execute_result"
    }
   ],
   "source": [
    "#RESULTS\n",
    "\n",
    "results=np.zeros((10,5))\n",
    "count=0\n",
    "for l in range(10,101,10):#(10,101,10): #size of training set\n",
    "    for k in range(10): #repeat and average\n",
    "        Xg,Yg, minriskg, classifierbruteforceg, riskpocketg, classifierpocketg = compare(l,g)\n",
    "        Xf,Yf, minriskf, classifierbruteforcef, riskpocketf, classifierpocketf = compare(l,f)\n",
    "        results[count,:]+=0.1*np.array([l,minriskg, riskpocketg, minriskf, riskpocketf])\n",
    "    count+=1\n",
    "\n",
    "row_labels=np.array(['l = '+str(i) for i in results[:,0]])\n",
    "column_labels=np.array(['Brute Force, g','Pocket Algorithm, g','Brute force, f', 'Pocket Algorithm, f'])\n",
    "print('Empirical Risk (averaged over 10 repetitions)')\n",
    "DataFrame(results[:,1:], row_labels, column_labels)"
   ]
  },
  {
   "cell_type": "code",
   "execution_count": 16,
   "metadata": {
    "collapsed": false
   },
   "outputs": [
    {
     "data": {
      "image/png": "[encoded data removed]",
      "text/plain": [
       "<matplotlib.figure.Figure at 0x9849438>"
      ]
     },
     "metadata": {},
     "output_type": "display_data"
    }
   ],
   "source": [
    "plt.plot(range(10,101,10),results[:,1],'r')\n",
    "plt.plot(range(10,101,10),results[:,2],'b')\n",
    "plt.title('Using g = (x1+1)/2')\n",
    "plt.xlabel('size of training data set l')\n",
    "plt.ylabel('empirical risk')\n",
    "plt.legend(['brute force','pocket algorithm'], bbox_to_anchor=(1, 1), loc=2)\n",
    "plt.show()"
   ]
  },
  {
   "cell_type": "markdown",
   "metadata": {},
   "source": [
    "The Bayes risk in this case is $0.25$. For more and more training data, the empirical risk should also approach $0.25$. The Pocket Algorithm performs worse than just minimizing over all empirical decision functions of our chosen class."
   ]
  },
  {
   "cell_type": "code",
   "execution_count": 18,
   "metadata": {
    "collapsed": false
   },
   "outputs": [
    {
     "data": {
      "image/png": "[encoded data removed]",
      "text/plain": [
       "<matplotlib.figure.Figure at 0xa6c52b0>"
      ]
     },
     "metadata": {},
     "output_type": "display_data"
    }
   ],
   "source": [
    "plt.plot(range(10,101,10),results[:,3],'r')\n",
    "plt.plot(range(10,101,10),results[:,4],'b')\n",
    "plt.title('Using f = (x1+1)*(x2+1)/4')\n",
    "plt.xlabel('size of training data set l')\n",
    "plt.ylabel('empirical risk')\n",
    "plt.legend(['brute force','pocket algorithm'], bbox_to_anchor=(1, 1), loc=2)\n",
    "plt.show()"
   ]
  },
  {
   "cell_type": "markdown",
   "metadata": {
    "collapsed": true
   },
   "source": [
    "Also in this case, the Pocket Algorithm performs much worse than the Brute Force approach, as can be seen by comparing (see plot) the empirical risk for both approaches."
   ]
  },
  {
   "cell_type": "code",
   "execution_count": null,
   "metadata": {
    "collapsed": true
   },
   "outputs": [],
   "source": []
  }
 ],
 "metadata": {
  "kernelspec": {
   "display_name": "Python 2",
   "language": "python",
   "name": "python2"
  },
  "language_info": {
   "codemirror_mode": {
    "name": "ipython",
    "version": 2
   },
   "file_extension": ".py",
   "mimetype": "text/x-python",
   "name": "python",
   "nbconvert_exporter": "python",
   "pygments_lexer": "ipython2",
   "version": "2.7.13"
  }
 },
 "nbformat": 4,
 "nbformat_minor": 2
}
