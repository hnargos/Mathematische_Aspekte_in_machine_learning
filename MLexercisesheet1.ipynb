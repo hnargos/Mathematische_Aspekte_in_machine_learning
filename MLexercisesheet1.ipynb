{
 "cells": [
  {
   "cell_type": "markdown",
   "metadata": {},
   "source": [
    "# Mathematical Aspects of Machine Learning: Exercise Sheet 1\n",
    "by Henrik Narvaez, Marvin Rominger, Johannes von Lindheim und Luzie Helfmann\n"
   ]
  },
  {
   "cell_type": "markdown",
   "metadata": {},
   "source": [
    "#  Exercise 1 (a) <br> \n",
    "We created $100$ random data points in $2$ dimensions. This is just one example to see how the algorithm works before using it on differet $l$ and $n$. <br>\n",
    "A label $+1$ (set A) or $-1$ (set B) is assigned to each data point. The points are linearly seperable (and thus also absolutely linearly seperable as we have a finite training set) because they were split into two groups by creating a random vector $w$ such that $$ w^Tx\\geq \\theta$$ or $$w^Tx<\\theta$$ for all $x$ in the training data.\n"
   ]
  },
  {
   "cell_type": "code",
   "execution_count": 1,
   "metadata": {
    "collapsed": true
   },
   "outputs": [],
   "source": [
    "import numpy as np, matplotlib.pyplot as plt\n",
    "from pandas import DataFrame"
   ]
  },
  {
   "cell_type": "code",
   "execution_count": 2,
   "metadata": {
    "collapsed": true
   },
   "outputs": [],
   "source": [
    "l=10\n",
    "#dimension \n",
    "n=2 \n",
    "\n",
    "trainingdata=np.random.rand(l,n+1) #random data points in (0,1)^n\n",
    "trainingdata[:,-1]=np.ones((1,l)) #n+1'th dimension to account for theta\n",
    "\n",
    "#assign labels to training data such that they are linearly seperable           \n",
    "wrandom=np.random.rand(n)\n",
    "datalabels=np.zeros(l)\n",
    "theta=np.dot(wrandom,trainingdata[1,:n])\n",
    "for i in range(l):\n",
    "  if np.dot(wrandom,trainingdata[i,:n])>=theta:\n",
    "      datalabels[i]=1\n",
    "  else:\n",
    "      datalabels[i]=-1"
   ]
  },
  {
   "cell_type": "code",
   "execution_count": 3,
   "metadata": {
    "collapsed": false
   },
   "outputs": [
    {
     "name": "stdout",
     "output_type": "stream",
     "text": [
      "[[ 0.11698341  0.5534786   1.        ]\n",
      " [ 0.20734128  0.76631007  1.        ]\n",
      " [ 0.40597427  0.56612275  1.        ]\n",
      " [ 0.86286997  0.09135891  1.        ]\n",
      " [ 0.52940763  0.75070689  1.        ]\n",
      " [ 0.19520267  0.17493323  1.        ]\n",
      " [ 0.58117242  0.64372826  1.        ]\n",
      " [ 0.92116046  0.71755257  1.        ]\n",
      " [ 0.85353089  0.13303326  1.        ]\n",
      " [ 0.91842537  0.73445809  1.        ]]\n",
      "[-1.  1.  1.  1.  1. -1.  1.  1.  1.  1.]\n"
     ]
    }
   ],
   "source": [
    "print trainingdata; print datalabels"
   ]
  },
  {
   "cell_type": "markdown",
   "metadata": {},
   "source": [
    "To plot the data in the example below, the training data points with label $+1$ are shown as red circles, the points with label $-1$ are shown as blue stars. And the two sets are seperated by the line wrandom (with the Perceptron algorithm we want to find such a seperating line).  "
   ]
  },
  {
   "cell_type": "code",
   "execution_count": 4,
   "metadata": {
    "collapsed": false
   },
   "outputs": [
    {
     "data": {
      "image/png": "[encoded data removed]",
      "text/plain": [
       "<matplotlib.figure.Figure at 0x77de5c0>"
      ]
     },
     "metadata": {},
     "output_type": "display_data"
    }
   ],
   "source": [
    "x=np.arange(0,1,0.1)\n",
    "y=np.zeros(l)\n",
    "for i in range(10):\n",
    "    y[i]=(theta-wrandom[0]*x[i])/wrandom[1]\n",
    "\n",
    "index1=[i for i,e in enumerate(datalabels) if e==1]\n",
    "indexmin1=[i for i,d in enumerate(datalabels) if d==-1]\n",
    "plt.plot(trainingdata[index1,0],trainingdata[index1,1],'ro')\n",
    "plt.plot(trainingdata[indexmin1,0],trainingdata[indexmin1,1],'b*')\n",
    "plt.plot(x,y)\n",
    "plt.show()"
   ]
  },
  {
   "cell_type": "markdown",
   "metadata": {},
   "source": [
    "In the Perceptron algorithm we iterate and cycle through all the training data points until we find a $w_t$ such that all points in one set are on one side of the hyperplane and all the others on the other side. As a maximum number of iterations we have set $1000$ and the stopping criteria is that the algorithm has cycled through all training points without having to adjust weight vector."
   ]
  },
  {
   "cell_type": "code",
   "execution_count": 5,
   "metadata": {
    "collapsed": true
   },
   "outputs": [],
   "source": [
    "#perceptron algorithm\n",
    "t=0\n",
    "w=np.random.rand(n+1) #n+1 dimensional to account for theta \n",
    "cycle=0 #to keep track of whether we cycled through all training data points\n",
    "     \n",
    "    \n",
    "for t in range(1000):\n",
    "    for i in range(l):\n",
    "        if datalabels[i]==np.sign(np.dot(w,trainingdata[i,:])):\n",
    "            cycle+=1\n",
    "        elif datalabels[i]==1:\n",
    "            w+=trainingdata[i,:]\n",
    "            cycle=0\n",
    "            break\n",
    "        else:\n",
    "            w-=trainingdata[i,:]\n",
    "            cycle=0\n",
    "            break      \n",
    "    if cycle==l: #stopping criteria\n",
    "        break\n",
    "    \n"
   ]
  },
  {
   "cell_type": "code",
   "execution_count": null,
   "metadata": {
    "collapsed": false
   },
   "outputs": [
    {
     "data": {
      "image/png": "[encoded data removed]",
      "text/plain": [
       "<matplotlib.figure.Figure at 0x47aa048>"
      ]
     },
     "metadata": {},
     "output_type": "display_data"
    }
   ],
   "source": [
    "x=np.arange(0,1,0.1)\n",
    "for i in range(10):\n",
    "    y[i]=(-w[2]-w[0]*x[i])/w[1]\n",
    "\n",
    "index1=[i for i,e in enumerate(datalabels) if e==1]\n",
    "indexmin1=[i for i,d in enumerate(datalabels) if d==-1]\n",
    "plt.plot(trainingdata[index1,0],trainingdata[index1,1],'ro')\n",
    "plt.plot(trainingdata[indexmin1,0],trainingdata[indexmin1,1],'b*')\n",
    "plt.plot(x,y)\n",
    "plt.show()"
   ]
  },
  {
   "cell_type": "markdown",
   "metadata": {},
   "source": [
    "Now we can test our algorithm on different $n$ (dimensions) and $l$ (number of training data). And see how and compare how the algorithm behaves in terms of number of iterations."
   ]
  },
  {
   "cell_type": "code",
   "execution_count": null,
   "metadata": {
    "collapsed": true
   },
   "outputs": [],
   "source": [
    "#setting parameters\n",
    "maxn=10 #maximum number of dimensions\n",
    "maxl=100 #maximum number of training elements\n",
    "repetitions=100 #number of repetitions to estimate the number of iterations for certain n and l\n",
    "\n",
    "iterations=np.zeros((3,maxl -1,maxn -1))\n",
    "iterations[0,:,:]=np.array([range(2,maxn+1) for k in range(1,maxl)])\n",
    "iterations[1,:,:]=np.array([range(2,maxl+1) for k in range(1,maxn)]).T\n",
    "     \n",
    "for n in range(2,maxn + 1): #dimension \n",
    "    for l in range(2,maxl + 1): #size of training data set\n",
    "        tmean=0\n",
    "        for k in range(repetitions):\n",
    "            trainingdata=np.random.rand(l,n+1) #random data points\n",
    "            trainingdata[:,-1]=np.ones((1,l)) #n+1 dimensional to account for theta\n",
    "            \n",
    "            #create random linearly seperable training data             \n",
    "            wrandom=np.random.rand(n)\n",
    "            datalabels=np.zeros(l)\n",
    "            theta=np.dot(wrandom,trainingdata[1,:n])\n",
    "            for i in range(l):\n",
    "              if np.dot(wrandom,trainingdata[i,:n])>=theta:\n",
    "                  datalabels[i]=1\n",
    "              else:\n",
    "                  datalabels[i]=-1\n",
    "                 \n",
    "            #linearly seperable test data of dimension n\n",
    "            #even absolutely linearly separable as the two sets A and B are finite\n",
    "            \n",
    "            \n",
    "            #perceptron algorithm\n",
    "            w=np.random.rand(n+1) #n+1 dimensional to account for theta \n",
    "            cycle=0 #to keep track of whether we cycled through all training data points\n",
    "                 \n",
    "                \n",
    "            for t in range(1,500):\n",
    "                for i in range(l):\n",
    "                    if datalabels[i]==np.sign(np.dot(w,trainingdata[i,:])):\n",
    "                    #sign can also be 0 !!!\n",
    "                        cycle+=1\n",
    "                    elif datalabels[i]==1:\n",
    "                        w+=trainingdata[i,:]\n",
    "                        cycle=0\n",
    "                        break\n",
    "                    else:\n",
    "                        w-=trainingdata[i,:]\n",
    "                        cycle=0\n",
    "                        break      \n",
    "                if cycle==l: #stopping criteria\n",
    "                    tmean+=1./repetitions*t\n",
    "                    break\n",
    "                    \n",
    "        iterations[2,l-2,n-2]=tmean \n",
    "        \n",
    "\n"
   ]
  },
  {
   "cell_type": "code",
   "execution_count": null,
   "metadata": {
    "collapsed": false
   },
   "outputs": [],
   "source": [
    "for i in range(maxl-1):     \n",
    "    plt.plot(iterations[0,i,:],iterations[2,i,:],'ro')\n",
    "    plt.title('training data points l = '+str(i+2))\n",
    "    plt.ylabel('average number of iterations' + str(repetitions) +  ' repetions')\n",
    "    plt.xlabel('dimension n')\n",
    "    plt.show()\n",
    "for i in range(maxn-1):     \n",
    "    plt.plot(iterations[1,:,i],iterations[2,:,i],'bo')\n",
    "    plt.ylabel('average number of iterations ' + str(repetitions) +  ' repetions')\n",
    "    plt.title('dimension n = '+ str(i+2))\n",
    "    plt.xlabel('number of training data points l')\n",
    "    plt.show()"
   ]
  },
  {
   "cell_type": "markdown",
   "metadata": {},
   "source": [
    "So in conclusion, for a fixed number of training data points, the number of iterations decreases with increasing dimension (seems to fall exponentially); and for a fixed dimension of the space, the number of iterations seems to increase (linearly) with increasing number of data points. "
   ]
  },
  {
   "cell_type": "markdown",
   "metadata": {},
   "source": [
    "# Exercise 1 (b) <br>\n",
    "Next we want to find an example for which the algorithm takes very very long to find the weight vector which seperates the two sets A and B. "
   ]
  },
  {
   "cell_type": "code",
   "execution_count": null,
   "metadata": {
    "collapsed": false
   },
   "outputs": [],
   "source": [
    "l=5 \n",
    "n=5 \n",
    "trainingdata=np.array([[-0.93652338, -0.90652662, -0.9842292 , -0.91720455, -0.94420967,\n",
    "         1.        ],\n",
    "       [ 1.01724911,  1.04598597,  1.04287103,  1.05005195,  1.01763736,\n",
    "         1.        ],\n",
    "       [ 1.04302792,  1.01471629,  1.02017942,  1.04279241,  1.04448992,\n",
    "         1.        ],\n",
    "       [ 1.07343644,  1.03190436,  1.05094974,  1.0268245 ,  1.0763322 ,\n",
    "         1.        ],\n",
    "       [ 1.06358414,  1.06779813,  1.02946642,  1.07718681,  1.09281483,\n",
    "         1.        ]])\n",
    "   \n",
    "datalabels=np.array([-1.,  1., -1.,  1.,  1.])\n",
    "\n",
    "#plotting the points in 2 dimensions to understand the difficulty of finding a hyperplane\n",
    "index1=[i for i,e in enumerate(datalabels) if e==1]\n",
    "indexmin1=[i for i,d in enumerate(datalabels) if d==-1]\n",
    "plt.scatter(trainingdata[index1,0],trainingdata[index1,1],c='r')\n",
    "plt.scatter(trainingdata[indexmin1,0],trainingdata[indexmin1,1],c='b')\n",
    "print('The plot below shows the vectors in the first two dimensions, the different colours stand for the different labels +1 and -1.')\n",
    "plt.show()"
   ]
  },
  {
   "cell_type": "markdown",
   "metadata": {},
   "source": [
    "The reason the perceptron algorithm will take so many iterations when seperating the two sets A and B is that, the data points are very close to another and the distance from the points to the hyperplane will be very small. Also the vectors all point along nearly the same direction, so $w_t$ changes its direction only very slowly."
   ]
  },
  {
   "cell_type": "code",
   "execution_count": null,
   "metadata": {
    "collapsed": false
   },
   "outputs": [],
   "source": [
    "               \n",
    "#perceptron algorithm\n",
    "t=0\n",
    "w=np.random.rand(n+1) #n+1 dimensional to account for theta \n",
    "cycle=0 #to keep track of whether we cycled through all training data points\n",
    "     \n",
    "    \n",
    "for t in range(10000):\n",
    "    for i in range(l):\n",
    "        if datalabels[i]==np.sign(np.dot(w,trainingdata[i,:])):\n",
    "        #sign can also be 0 !!!\n",
    "            cycle+=1\n",
    "        elif datalabels[i]==1:\n",
    "            w+=trainingdata[i,:]\n",
    "            cycle=0\n",
    "            break\n",
    "        else:\n",
    "            w-=trainingdata[i,:]\n",
    "            cycle=0\n",
    "            break      \n",
    "    if cycle==l: #stopping criteria\n",
    "        break\n",
    "\n",
    "print('The number of iterations to find the hyperplane seperating the two sets is ' +str(t) +'.')"
   ]
  },
  {
   "cell_type": "markdown",
   "metadata": {},
   "source": [
    "# Exercise 1 (c) <br>\n",
    "The task was to produce an estimate for the maximum number of vectors one can pick at random and which are supposed to be in the same set (say A) such that all points can be seperated by a hyperplane through the origin (i.e. $\\theta=0$).<br>\n",
    "We estimated (for different values of dimension $n$) for each $l$ (number of training data points) the proportion of runs such that a hyperplane (as described above) exists."
   ]
  },
  {
   "cell_type": "code",
   "execution_count": null,
   "metadata": {
    "collapsed": false
   },
   "outputs": [],
   "source": [
    "maxn=10\n",
    "maxl=10\n",
    "repetitions=100\n",
    "\n",
    "behaviour=np.zeros((3,maxl-1,maxn-1))\n",
    "behaviour[0,:,:]=np.array([np.arange(2,maxn + 1,1 ) for k in range(maxl-1)])\n",
    "behaviour[1,:,:]=np.array([np.arange(2,maxl + 1,1) for k in range(maxn-1)]).T\n",
    "\n",
    "        \n",
    "for n in np.arange(2,maxn+1,1 ): #dimension \n",
    "    for l in np.arange(2,maxl + 1,1): #size of training data set        \n",
    "        propsep=0\n",
    "        for k in range(repetitions):\n",
    "            trainingdata=np.random.uniform(-1,1,(l,n)) #random data points\n",
    "            datalabels=np.ones(l)\n",
    "            \n",
    "            #perceptron algorithm\n",
    "            w=np.random.rand(n) #n+1 dimensional to account for theta \n",
    "            cycle=0 #to keep track of whether we cycled through all training data points\n",
    "                 \n",
    "                \n",
    "            for t in range(1,5000):\n",
    "                for i in range(l):\n",
    "                    if datalabels[i]==np.sign(np.dot(w,trainingdata[i,:])):\n",
    "                    #sign can also be 0 !!!\n",
    "                        cycle+=1\n",
    "                    elif datalabels[i]==1:\n",
    "                        w+=trainingdata[i,:]\n",
    "                        cycle=0\n",
    "                        break\n",
    "                    else:\n",
    "                        w-=trainingdata[i,:]\n",
    "                        cycle=0\n",
    "                        break      \n",
    "                if cycle==l: #stopping criteria\n",
    "                    propsep+=1./repetitions\n",
    "                    break\n",
    "                    \n",
    "        behaviour[2,l-2,n-2]=propsep\n",
    "\n",
    "row_labels=np.array([str(i) for i in range(2,maxl+1)])\n",
    "column_labels=np.array([str(i) for i in range(2,maxn+1)])\n",
    "print('proportion of runs such that the set was linearly seperable \\ndimension n (columns) vs size of training data set l (rows)')\n",
    "print DataFrame(behaviour[2,:,:], row_labels,column_labels)"
   ]
  },
  {
   "cell_type": "code",
   "execution_count": null,
   "metadata": {
    "collapsed": true
   },
   "outputs": [],
   "source": []
  }
 ],
 "metadata": {
  "kernelspec": {
   "display_name": "Python 2",
   "language": "python",
   "name": "python2"
  },
  "language_info": {
   "codemirror_mode": {
    "name": "ipython",
    "version": 2
   },
   "file_extension": ".py",
   "mimetype": "text/x-python",
   "name": "python",
   "nbconvert_exporter": "python",
   "pygments_lexer": "ipython2",
   "version": "2.7.13"
  }
 },
 "nbformat": 4,
 "nbformat_minor": 2
}
